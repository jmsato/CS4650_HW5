{
  "nbformat": 4,
  "nbformat_minor": 0,
  "metadata": {
    "colab": {
      "name": "Main.ipynb",
      "provenance": [],
      "collapsed_sections": [],
      "history_visible": true,
      "authorship_tag": "ABX9TyPbLHR6B9md6CagC+G5+RQw",
      "include_colab_link": true
    },
    "kernelspec": {
      "name": "python3",
      "display_name": "Python 3"
    }
  },
  "cells": [
    {
      "cell_type": "markdown",
      "metadata": {
        "id": "view-in-github",
        "colab_type": "text"
      },
      "source": [
        "<a href=\"https://colab.research.google.com/github/jmsato/CS4650_HW5/blob/main/Main.ipynb\" target=\"_parent\"><img src=\"https://colab.research.google.com/assets/colab-badge.svg\" alt=\"Open In Colab\"/></a>"
      ]
    },
    {
      "cell_type": "code",
      "metadata": {
        "colab": {
          "base_uri": "https://localhost:8080/"
        },
        "id": "N1QS_oHc8UIy",
        "outputId": "5097f077-68bd-4a4c-93d1-d3bb4cd1fc54"
      },
      "source": [
        "import spacy\n",
        "import en_core_web_lg\n",
        "from newsapi.newsapi_client import NewsApiClient\n",
        "import pickle\n",
        "import pandas as pd\n",
        "from datetime import datetime\n",
        "from collections import Counter\n",
        "from google.colab import drive\n",
        "\n",
        "#Function to extract part-of-speech tagging\n",
        "pos_tag = {'VERB', 'NOUN', 'PROPN'}\n",
        "def get_keywords_eng(text):\n",
        "  result = []\n",
        "  for token in nlp_eng(text):\n",
        "    if (token.text in nlp_eng.Defaults.stop_words):\n",
        "      continue\n",
        "    if (token.pos_ in pos_tag):\n",
        "      result.append(token.text)\n",
        "  return result\n",
        "\n",
        "#API request\n",
        "nlp_eng = en_core_web_lg.load()\n",
        "newsapi = NewsApiClient(api_key='eb18bdd4d4e645978ac8143372f2184a')\n",
        "temp = newsapi.get_everything(q='coronavirus', language='en', from_param='2021-02-19', to='2021-03-18', sort_by='relevancy')\n",
        "articles = temp['articles']\n",
        "\n",
        "#Save result to Google Drive\n",
        "filename = 'articlesCOVID.pckl'\n",
        "pickle.dump(articles, open(filename, 'wb'))\n",
        "loaded_model = pickle.load(open(filename, 'rb'))\n",
        "filepath = 'articlesCOVID.pckl'\n",
        "pickle.dump(loaded_model, open(filepath, 'wb'))\n",
        "\n",
        "#Get only title, date, description, and content of articles\n",
        "dados = list()\n",
        "for i, article in enumerate(articles):\n",
        "  title = article['title']\n",
        "  date = article['publishedAt']\n",
        "  date = datetime.fromisoformat(date[:-1]).date()\n",
        "  description = article['description']\n",
        "  content = article['content']\n",
        "  dados.append({'title': title, 'date': date, 'desc': description, 'content': content, 'keywords': [None] * 5})\n",
        "df = pd.DataFrame(dados)\n",
        "\n",
        "#Clean the data\n",
        "df = df.dropna()\n",
        "\n",
        "#Extract parts of speech data from content\n",
        "for content in df.content.values:\n",
        "  results = list()\n",
        "  results.append([('#' + x[0]) for x in Counter(get_keywords_eng(content)).most_common(5)])\n",
        "  df.at[df.index[df.content == content][0], 'keywords'] = results[0]\n",
        "\n",
        "#Print example of data and save into a csv file to save onto Google Drive\n",
        "df.head()\n",
        "print(df)\n",
        "drive.mount('drive')\n",
        "df.to_csv('CovidArticles.csv')\n",
        "!cp CovidArticles.csv \"drive/My Drive/\""
      ],
      "execution_count": 80,
      "outputs": [
        {
          "output_type": "stream",
          "text": [
            "Int64Index([0], dtype='int64')\n",
            "Int64Index([1], dtype='int64')\n",
            "Int64Index([2], dtype='int64')\n",
            "Int64Index([3], dtype='int64')\n",
            "Int64Index([4], dtype='int64')\n",
            "Int64Index([5], dtype='int64')\n",
            "Int64Index([6], dtype='int64')\n",
            "Int64Index([7], dtype='int64')\n",
            "Int64Index([8], dtype='int64')\n",
            "Int64Index([9], dtype='int64')\n",
            "Int64Index([10], dtype='int64')\n",
            "Int64Index([11], dtype='int64')\n",
            "Int64Index([12], dtype='int64')\n",
            "Int64Index([13], dtype='int64')\n",
            "Int64Index([14], dtype='int64')\n",
            "Int64Index([15], dtype='int64')\n",
            "Int64Index([16], dtype='int64')\n",
            "Int64Index([18], dtype='int64')\n",
            "Int64Index([19], dtype='int64')\n",
            "                                                title  ...                                           keywords\n",
            "0           Coronavirus Briefing: What Happened Today  ...            [#going, #think, #months, #look, #U.S.]\n",
            "1         Your N.B.A. Coronavirus Questions, Answered  ...             [#Knight, #seen, #Wayne, #ads, #Space]\n",
            "2           Coronavirus Briefing: What Happened Today  ...  [#ethicists, #list, #suggests, #risks, #condit...\n",
            "3           Coronavirus Briefing: What Happened Today  ...     [#efforts, #scaled, #country, #strives, #herd]\n",
            "4   As Coronavirus Variants Spread, the US Struggl...  ...    [#snippets, #viruss, #quirk, #Covid-19, #tests]\n",
            "5           Coronavirus Briefing: What Happened Today  ...      [#vaccine, #sharing, #program, #Covax, #aims]\n",
            "6           Coronavirus Briefing: What Happened Today  ...      [#health, #Community, #centers, #Abby, #said]\n",
            "7           Coronavirus Briefing: What Happened Today  ...      [#summer, #areas, #country, #dealing, #surge]\n",
            "8     Coronavirus, Texas, Mars: Your Weekend Briefing  ...             [#Erik, #Prince, #Trump, #ally, #head]\n",
            "9     I.O.C. Will Buy Coronavirus Vaccines From China  ...   [#China, #amounts, #relations, #coup, #solution]\n",
            "10  Assessing Claims in the Coronavirus Stimulus D...  ...  [#spokeswoman, #House, #transportation, #commi...\n",
            "11             Coronavirus Testing Slumps in the U.S.  ...       [#March, #a.m., #ET, #LiveUpdated, #experts]\n",
            "12  Biden to Visit Coronavirus Vaccine Manufacturi...  ...      [#Feb., #a.m., #ET, #LiveUpdated, #President]\n",
            "13  Keeping the Australian Open Safe from Coronavirus  ...  [#MELBOURNE, #Australia, #thing, #happened, #end]\n",
            "14  Coronavirus: Paraguay president asks ministers...  ...  [#government, #image, #captionAnti, #anger, #e...\n",
            "15  Virginia Pulls Out of A.C.C. Tournament Becaus...  ...  [#University, #Virginias, #mens, #basketball, ...\n",
            "16  UConn Coach Geno Auriemma Tests Positive for t...  ...  [#Connecticut, #basketball, #coach, #Geno, #Au...\n",
            "18                          Is It Safe to Travel Yet?  ...  [#Vaccines, #coronavirus, #cases, #dropping, #...\n",
            "19  Coronavirus Vaccine Finder Aims to Help Americ...  ...  [#progress, #getting, #appointments, #vaccinat...\n",
            "\n",
            "[19 rows x 5 columns]\n",
            "Drive already mounted at drive; to attempt to forcibly remount, call drive.mount(\"drive\", force_remount=True).\n"
          ],
          "name": "stdout"
        }
      ]
    }
  ]
}